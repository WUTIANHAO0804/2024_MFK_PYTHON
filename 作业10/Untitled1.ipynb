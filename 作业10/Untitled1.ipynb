{
 "cells": [
  {
   "cell_type": "code",
   "execution_count": 13,
   "id": "fa5341e5",
   "metadata": {},
   "outputs": [],
   "source": [
    "#10.6\n",
    "#inner"
   ]
  },
  {
   "cell_type": "code",
   "execution_count": null,
   "id": "51e05a3d",
   "metadata": {},
   "outputs": [],
   "source": [
    "#10.5\n",
    "import pandas as pd\n",
    "\n",
    "# Чтение данных из файла\n",
    "df = pd.read_csv('input.csv')\n",
    "\n",
    "# Проверка, не пустой ли файл\n",
    "if not df.empty:\n",
    "    # Создание новой колонки, которая объединяет города отправления и прибытия\n",
    "    df['Маршрут'] = df['Город отправления'] + ' - ' + df['Город прибытия']\n",
    "\n",
    "    # Подсчет количества уникальных маршрутов для каждого номера борта\n",
    "    summary = df.groupby('Номер борта')['Маршрут'].nunique()\n",
    "\n",
    "    # Преобразование Series в DataFrame и сортировка\n",
    "    result = summary.reset_index()\n",
    "    result.columns = ['Номер борта', 'Уникальных маршрутов']\n",
    "    result = result.sort_values(by=['Уникальных маршрутов', 'Номер борта'], ascending=[False, True])\n",
    "else:\n",
    "    # Создаем пустой DataFrame с нужными заголовками, если входной файл пуст\n",
    "    result = pd.DataFrame(columns=['Номер борта', 'Уникальных маршрутов'])\n",
    "\n",
    "# Сохранение результатов в файл\n",
    "result.to_csv('output.csv', encoding='utf8', index=False)\n"
   ]
  },
  {
   "cell_type": "code",
   "execution_count": 10,
   "id": "3dedc842",
   "metadata": {},
   "outputs": [],
   "source": [
    "#10.4\n",
    "import pandas as pd\n",
    "\n",
    "# Чтение данных из файла\n",
    "df = pd.read_csv('input.csv')\n",
    "\n",
    "if not df.empty:\n",
    "    # Определение веса груза в зависимости от типа операции\n",
    "    df['Adjusted Volume'] = df.apply(lambda row: row['Объем груза'] if row['Тип операции'] == 'Привоз' else -row['Объем груза'], axis=1)\n",
    "\n",
    "    # Группировка по фамилии водителя и подсчет общего объема\n",
    "    result = df.groupby('Фамилия водителя')['Adjusted Volume'].sum().reset_index()\n",
    "\n",
    "    # Переименование колонок для вывода\n",
    "    result.columns = ['Фамилия водителя', 'Объем груза']\n",
    "\n",
    "    # Сортировка по объему груза (убывание) и фамилии (возрастание)\n",
    "    result.sort_values(by=['Объем груза', 'Фамилия водителя'], ascending=[False, True], inplace=True)\n",
    "else:\n",
    "    # Если данные отсутствуют, создаем пустой DataFrame с требуемыми столбцами\n",
    "    result = pd.DataFrame(columns=['Фамилия водителя', 'Объем груза'])\n",
    "\n",
    "# Сохранение результатов в файл\n",
    "result.to_csv('output.csv', index=False, encoding='utf8')\n",
    "\n"
   ]
  },
  {
   "cell_type": "code",
   "execution_count": 11,
   "id": "d40c1017",
   "metadata": {},
   "outputs": [],
   "source": [
    "# 10.3\n",
    "# login1, login4"
   ]
  },
  {
   "cell_type": "code",
   "execution_count": 8,
   "id": "c7a38cb1",
   "metadata": {},
   "outputs": [],
   "source": [
    "#10.2\n",
    "import pandas as pd\n",
    "\n",
    "# Функция для перевода температуры в Фаренгейт и округления\n",
    "def celsius_to_fahrenheit(temp_c):\n",
    "    return round(9 / 5 * temp_c + 32)\n",
    "\n",
    "# Чтение данных из файла\n",
    "df = pd.read_csv('input.csv')\n",
    "\n",
    "# Создание нового столбца с температурой по Фаренгейту\n",
    "df['temperature_f'] = df['temperature_c'].apply(celsius_to_fahrenheit)\n",
    "\n",
    "# Сохранение результата в файл 'output.csv'\n",
    "df.to_csv('output.csv', index_label='', header=True)\n"
   ]
  },
  {
   "cell_type": "code",
   "execution_count": 6,
   "id": "370a374c",
   "metadata": {},
   "outputs": [],
   "source": [
    "#10.1\n",
    "import pandas as pd\n",
    "\n",
    "# Чтение данных из файла\n",
    "df = pd.read_csv('input.csv')\n",
    "\n",
    "# Удаление строк, где отсутствует значение в столбце 'name'\n",
    "df = df.dropna(subset=['name'])\n",
    "\n",
    "# Вычисление среднего значения для столбца 'score' после удаления строк\n",
    "mean_score = df['score'].mean()\n",
    "\n",
    "# Замена отсутствующих значений в столбце 'score' на среднее значение\n",
    "df['score'].fillna(mean_score, inplace=True)\n",
    "\n",
    "# Сохранение результата в файл 'output.csv'\n",
    "# Добавление запятой перед заголовком и сохранение оригинальных индексов строк\n",
    "df.to_csv('output.csv', index_label='', header=['name', 'score'])\n"
   ]
  },
  {
   "cell_type": "code",
   "execution_count": null,
   "id": "bb984ec0",
   "metadata": {},
   "outputs": [],
   "source": []
  }
 ],
 "metadata": {
  "kernelspec": {
   "display_name": "Python 3 (ipykernel)",
   "language": "python",
   "name": "python3"
  },
  "language_info": {
   "codemirror_mode": {
    "name": "ipython",
    "version": 3
   },
   "file_extension": ".py",
   "mimetype": "text/x-python",
   "name": "python",
   "nbconvert_exporter": "python",
   "pygments_lexer": "ipython3",
   "version": "3.9.13"
  },
  "widgets": {
   "application/vnd.jupyter.widget-state+json": {
    "state": {},
    "version_major": 2,
    "version_minor": 0
   }
  }
 },
 "nbformat": 4,
 "nbformat_minor": 5
}
